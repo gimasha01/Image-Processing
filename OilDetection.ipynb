{
 "cells": [
  {
   "cell_type": "code",
   "execution_count": 1,
   "metadata": {},
   "outputs": [
    {
     "name": "stdout",
     "output_type": "stream",
     "text": [
      "Defaulting to user installation because normal site-packages is not writeableNote: you may need to restart the kernel to use updated packages.\n",
      "\n",
      "Requirement already satisfied: opencv-python in c:\\users\\gimas\\appdata\\roaming\\python\\python312\\site-packages (4.10.0.84)\n",
      "Requirement already satisfied: numpy>=1.21.2 in c:\\users\\gimas\\appdata\\roaming\\python\\python312\\site-packages (from opencv-python) (2.1.1)\n"
     ]
    }
   ],
   "source": [
    "pip install opencv-python"
   ]
  },
  {
   "cell_type": "code",
   "execution_count": 2,
   "metadata": {},
   "outputs": [],
   "source": [
    "import cv2\n",
    "import numpy as np\n",
    "import time"
   ]
  },
  {
   "cell_type": "code",
   "execution_count": 3,
   "metadata": {},
   "outputs": [],
   "source": [
    "face_cascade = cv2.CascadeClassifier(cv2.data.haarcascades + 'haarcascade_frontalface_default.xml')"
   ]
  },
  {
   "cell_type": "code",
   "execution_count": 4,
   "metadata": {},
   "outputs": [],
   "source": [
    "# Function to calculate percentage of oily skin\n",
    "def calculate_oily_percentage(face_img):\n",
    "    # Convert image to grayscale\n",
    "    gray = cv2.cvtColor(face_img, cv2.COLOR_BGR2GRAY)\n",
    "    \n",
    "    # Apply skin segmentation (example: simple color thresholding)\n",
    "    _, skin_mask = cv2.threshold(gray, 0, 255, cv2.THRESH_BINARY + cv2.THRESH_OTSU)\n",
    "    \n",
    "    # Calculate percentage of oily skin\n",
    "    oily_percentage = (np.sum(skin_mask == 255) / (face_img.shape[0] * face_img.shape[1])) * 100\n",
    "    return oily_percentage"
   ]
  },
  {
   "cell_type": "code",
   "execution_count": 5,
   "metadata": {},
   "outputs": [],
   "source": [
    "# Function to map oily percentage to level\n",
    "def map_to_level(oily_percentage):\n",
    "    if oily_percentage < 5:\n",
    "        return \"Low level\"\n",
    "    elif oily_percentage < 10:\n",
    "        return \"Normal level 1\"\n",
    "    elif oily_percentage < 15:\n",
    "        return \"Middle level 2\"\n",
    "    else:\n",
    "        return \"High level\""
   ]
  },
  {
   "cell_type": "code",
   "execution_count": 6,
   "metadata": {},
   "outputs": [
    {
     "name": "stdout",
     "output_type": "stream",
     "text": [
      "Average Oily Level: High level, Percentage: 57.51%\n"
     ]
    }
   ],
   "source": [
    "# Open camera\n",
    "cap = cv2.VideoCapture(0)\n",
    "\n",
    "start_time = time.time()\n",
    "oily_percentage_sum = 0\n",
    "frame_count = 0\n",
    "\n",
    "while True:\n",
    "    # Capture frame-by-frame\n",
    "    ret, frame = cap.read()\n",
    "    \n",
    "    # Convert frame to grayscale for face detection\n",
    "    gray = cv2.cvtColor(frame, cv2.COLOR_BGR2GRAY)\n",
    "    \n",
    "    # Detect faces\n",
    "    faces = face_cascade.detectMultiScale(gray, 1.3, 5)\n",
    "    \n",
    "    # Process each detected face\n",
    "    for (x, y, w, h) in faces:\n",
    "        # Extract the face region\n",
    "        face_img = frame[y:y+h, x:x+w]\n",
    "        \n",
    "        # Calculate oily percentage\n",
    "        oily_percentage = calculate_oily_percentage(face_img)\n",
    "        \n",
    "        # Accumulate oily percentage\n",
    "        oily_percentage_sum += oily_percentage\n",
    "        frame_count += 1\n",
    "        \n",
    "        # Get oily level\n",
    "        oily_level = map_to_level(oily_percentage)\n",
    "        \n",
    "        # Draw rectangle around the face\n",
    "        cv2.rectangle(frame, (x, y), (x+w, y+h), (255, 0, 0), 2)\n",
    "        \n",
    "        # Display oily level and percentage value\n",
    "        text = f'Oily Level: {oily_level}, Percentage: {oily_percentage:.2f}%'\n",
    "        cv2.putText(frame, text, (x, y - 10), cv2.FONT_HERSHEY_SIMPLEX, 0.9, (36, 255, 12), 2)\n",
    "    \n",
    "    # Display the resulting frame\n",
    "    cv2.imshow('Skin Care Detection', frame)\n",
    "    \n",
    "    # Check if 10 seconds have elapsed\n",
    "    if time.time() - start_time >= 10:\n",
    "        # Calculate average oily percentage\n",
    "        average_oily_percentage = oily_percentage_sum / frame_count\n",
    "        # Get average oily level\n",
    "        average_oily_level = map_to_level(average_oily_percentage)\n",
    "        \n",
    "        # Display the average oily level and percentage\n",
    "        print(f'Average Oily Level: {average_oily_level}, Percentage: {average_oily_percentage:.2f}%')\n",
    "        \n",
    "        # Break the loop\n",
    "        break\n",
    "    \n",
    "    # Break the loop if 'q' is pressed\n",
    "    if cv2.waitKey(1) & 0xFF == ord('q'):\n",
    "        break"
   ]
  },
  {
   "cell_type": "code",
   "execution_count": null,
   "metadata": {},
   "outputs": [],
   "source": []
  }
 ],
 "metadata": {
  "kernelspec": {
   "display_name": "Python 3",
   "language": "python",
   "name": "python3"
  },
  "language_info": {
   "codemirror_mode": {
    "name": "ipython",
    "version": 3
   },
   "file_extension": ".py",
   "mimetype": "text/x-python",
   "name": "python",
   "nbconvert_exporter": "python",
   "pygments_lexer": "ipython3",
   "version": "3.12.5"
  }
 },
 "nbformat": 4,
 "nbformat_minor": 2
}
